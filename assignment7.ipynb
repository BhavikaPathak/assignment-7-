{
 "cells": [
  {
   "cell_type": "code",
   "execution_count": 7,
   "id": "2c555acf-edf2-4ac5-8c47-7d725f0eba14",
   "metadata": {},
   "outputs": [
    {
     "name": "stdout",
     "output_type": "stream",
     "text": [
      "The mileage is 40kmph\n",
      "The mileage is 25kmph \n",
      "The mileage is 35kmph \n",
      "The mileage is 31kmph \n"
     ]
    }
   ],
   "source": [
    "#                                            ANSWER 1 \n",
    "#Abstraction in python is defined as a process of handling complexity by hiding unnecessary information from the user.\n",
    "class Car():   \n",
    "    def mileage(self):   \n",
    "        pass  \n",
    "  \n",
    "class Tesla(Car):   \n",
    "    def mileage(self):   \n",
    "        print(\"The mileage is 40kmph\")   \n",
    "class Suzuki(Car):   \n",
    "    def mileage(self):   \n",
    "        print(\"The mileage is 35kmph \")   \n",
    "class Duster(Car):   \n",
    "     def mileage(self):   \n",
    "            print(\"The mileage is 31kmph \")   \n",
    "class Renault(Car):   \n",
    "    def mileage(self):   \n",
    "            print(\"The mileage is 25kmph \")   \n",
    "          \n",
    "        \n",
    "    \n",
    "t= Tesla ()   \n",
    "t.mileage()   \n",
    "  \n",
    "r = Renault()   \n",
    "r.mileage()   \n",
    "  \n",
    "s = Suzuki()   \n",
    "s.mileage()   \n",
    "d = Duster()   \n",
    "d.mileage() "
   ]
  },
  {
   "cell_type": "code",
   "execution_count": 6,
   "id": "4bc7b426-c498-4523-ab00-7c217565111a",
   "metadata": {},
   "outputs": [
    {
     "name": "stdout",
     "output_type": "stream",
     "text": [
      "RAM\n",
      "XUYZ ,NMYY HUAPK29971 91_22222222\n",
      "INDIAN Python Programming B+\n"
     ]
    }
   ],
   "source": [
    "#                                               ANSWER 2\n",
    "#Abstraction is hiding the details and implementation of the code.\n",
    "#Abstraction is a design level process.\n",
    "#Abstraction is concerned about what a class instance can do, instead of the implementation of the class.\n",
    "#Encapsulation is hiding the data and controlling the visibility of the code.\n",
    "#Encapsulation is an implementation level process.\n",
    "#Encapsulation helps in data binding and control over maintaining the transparency of the data.\n",
    "class Person:\n",
    "    def __init__(self):\n",
    "        self.name = \"RAM\"\n",
    "\n",
    "    def bio(self):\n",
    "        self.addr = \"XUYZ ,NMYY\"\n",
    "        self.taxInfo = \"HUAPK29971\"\n",
    "        self.contact = \"91_22222222\"\n",
    "        print(self.addr, self.taxInfo, self.contact)\n",
    "\n",
    "    def interest(self):\n",
    "        self.favFood = \"INDIAN\"\n",
    "        self.hobbies = \"Python Programming\"\n",
    "        self.bloodGroup = \"B+\"\n",
    "        print(self.favFood, self.hobbies, self.bloodGroup)\n",
    "\n",
    "obj = Person()\n",
    "print(obj.name)\n",
    "obj.bio()\n",
    "obj.interest()"
   ]
  },
  {
   "cell_type": "code",
   "execution_count": 8,
   "id": "a8c23a60-b1c9-41f5-a4d6-03461789e90c",
   "metadata": {},
   "outputs": [],
   "source": [
    "#                                                   ANSWER 3\n",
    "#Python has a module called abc (abstract base class) that offers the necessary tools for crafting an abstract base class. \n",
    "#The 'abc' module in the Python library provides the infrastructure for defining custom abstract base classes"
   ]
  },
  {
   "cell_type": "code",
   "execution_count": 10,
   "id": "8830afc0-03e4-4411-9860-6bef1a52eafe",
   "metadata": {},
   "outputs": [],
   "source": [
    "#                                                    ANSWER 4\n",
    "#Achieving Abstraction in Python:In Python, abstraction can be achieved by having/using abstract classes and methods in our programs.\n",
    "#Abstraction provides a programmer to hide all the irrelevant data/process of an application in order to reduce complexity and increase the efficiency of the program.\n"
   ]
  },
  {
   "cell_type": "code",
   "execution_count": 12,
   "id": "4d780058-4051-4345-bfd6-1e93ecf0d46d",
   "metadata": {},
   "outputs": [],
   "source": [
    "#                                              ANSWER 5\n",
    "# Abstract classes are not complete , as they may have some method that are defined .so we can not creat an instance or object of an abstract class in python."
   ]
  },
  {
   "cell_type": "code",
   "execution_count": null,
   "id": "25b63b3e-f8c6-4468-9373-29af2f1f6001",
   "metadata": {},
   "outputs": [],
   "source": []
  }
 ],
 "metadata": {
  "kernelspec": {
   "display_name": "Python 3 (ipykernel)",
   "language": "python",
   "name": "python3"
  },
  "language_info": {
   "codemirror_mode": {
    "name": "ipython",
    "version": 3
   },
   "file_extension": ".py",
   "mimetype": "text/x-python",
   "name": "python",
   "nbconvert_exporter": "python",
   "pygments_lexer": "ipython3",
   "version": "3.10.8"
  }
 },
 "nbformat": 4,
 "nbformat_minor": 5
}
